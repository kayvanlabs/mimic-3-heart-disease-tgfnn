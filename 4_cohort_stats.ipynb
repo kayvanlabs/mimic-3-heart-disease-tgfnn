{
 "cells": [
  {
   "cell_type": "markdown",
   "metadata": {},
   "source": [
    "# Statistics and information about the cohort"
   ]
  },
  {
   "cell_type": "code",
   "execution_count": null,
   "metadata": {},
   "outputs": [],
   "source": [
    "import pandas as pd"
   ]
  },
  {
   "cell_type": "code",
   "execution_count": null,
   "metadata": {},
   "outputs": [],
   "source": [
    "df = pd.read_csv('data_nolowfreq_statsmeanstd_mrmr30_knn9distweight/data_filtered.csv')\n",
    "d_icd = pd.read_csv('data/D_ICD_DIAGNOSES.csv')\n",
    "d_items = pd.read_csv('data/D_ITEMS.csv')\n",
    "d_lab = pd.read_csv('data/D_LABITEMS.csv')"
   ]
  },
  {
   "cell_type": "code",
   "execution_count": null,
   "metadata": {},
   "outputs": [],
   "source": [
    "def decode(var_name):\n",
    "    label = var_name\n",
    "    if var_name.isdigit():\n",
    "        id = int(var_name)\n",
    "\n",
    "        if id in d_items['ITEMID'].values:\n",
    "            label = d_items[d_items['ITEMID'] == id]['LABEL'].values[0]\n",
    "        elif id in d_lab['ITEMID'].values:\n",
    "            label = d_lab[d_lab['ITEMID'] == id]['LABEL'].values[0]\n",
    "\n",
    "    elif 'ICD9:' in var_name:\n",
    "        id = var_name.split('ICD9: ')[-1]\n",
    "\n",
    "        if id in d_icd['ICD9_CODE'].values:\n",
    "                label = d_icd[d_icd['ICD9_CODE'] == id]['LONG_TITLE'].values[0]\n",
    "                label = label + f' ({id})'\n",
    "\n",
    "    return label\n",
    "\n",
    "vars = pd.DataFrame(df['variable_name'].unique(), columns=['variable_name'])\n",
    "vars['variable_name_decoded'] = vars.apply(lambda x: decode(x['variable_name']), axis=1)"
   ]
  },
  {
   "cell_type": "code",
   "execution_count": null,
   "metadata": {},
   "outputs": [],
   "source": [
    "df = pd.merge(df, vars, on='variable_name', how='left')"
   ]
  },
  {
   "cell_type": "code",
   "execution_count": null,
   "metadata": {},
   "outputs": [],
   "source": [
    "from icd9cms.icd9 import search"
   ]
  },
  {
   "cell_type": "code",
   "execution_count": null,
   "metadata": {},
   "outputs": [],
   "source": [
    "df['group'].value_counts().sort_values(ascending=False).to_clipboard()"
   ]
  },
  {
   "cell_type": "code",
   "execution_count": null,
   "metadata": {},
   "outputs": [],
   "source": [
    "icd_vars = vars[vars['variable_name'].str.contains('ICD9:')]\n",
    "icd_vars['code'] = icd_vars['variable_name'].str.split('ICD9: ', expand=True)[1]\n",
    "icd_vars['icd_group'] = icd_vars['code'].str.slice(0, 3)\n",
    "icd_vars['description'] = icd_vars['icd_group'].apply(lambda x: search(x).short_desc if search(x) else None)\n",
    "icd_vars['group'] = icd_vars['description'] + ' (' + icd_vars['icd_group'] + ')'\n",
    "\n",
    "df = pd.merge(df, icd_vars[['variable_name', 'group']], on='variable_name', how='left')"
   ]
  },
  {
   "cell_type": "code",
   "execution_count": null,
   "metadata": {},
   "outputs": [],
   "source": [
    "descriptors_cont = [\n",
    "    'RR',\n",
    "    'HR',\n",
    "    'SpO2',\n",
    "    'SysBP',\n",
    "    'DiaBP',\n",
    "    'Temperature',\n",
    "    'GCS - Eye Opening',\n",
    "    'GCS - Verbal Response',\n",
    "    'GCS - Motor Response',\n",
    "    'Potassium',\n",
    "    'Hematocrit',\n",
    "    'Sodium',\n",
    "    'Chloride',\n",
    "    'Creatinine',\n",
    "    'Urea Nitrogen',\n",
    "    'Bicarbonate',\n",
    "    'Anion Gap',\n",
    "    'Glucose',\n",
    "    'Magnesium',\n",
    "    'Platelet Count',\n",
    "    'Hemoglobin',\n",
    "    'White Blood Cells',\n",
    "    'Red Blood Cells',\n",
    "    'RDW',\n",
    "    'MCHC',\n",
    "    'MCH',\n",
    "    'MCV',\n",
    "    'Phosphate',\n",
    "    'Calcium, Total',\n",
    "    'AGE'\n",
    "]\n",
    "descriptors_demo = [\n",
    "    'MARITAL_STATUS',\n",
    "    'ETHNICITY',\n",
    "    'GENDER',\n",
    "    'Race'\n",
    "]\n",
    "descriptors_icd = [\n",
    "    'Cardiac dysrhythmias (427)',\n",
    "    'Disorders of fluid electrolyte and acid-base balance (276)',\n",
    "    'Disorders of lipoid metabolism (272)',\n",
    "    'Essential hypertension (401)',\n",
    "    'Diabetes mellitus (250)',\n",
    "    'Acute kidney failure (584)',\n",
    "    'Chronic kidney disease (ckd) (585)',\n",
    "    'Hypotension (458)'\n",
    "]"
   ]
  },
  {
   "cell_type": "markdown",
   "metadata": {},
   "source": [
    "Now make a table with the mean (stdev) of continuous variables and frequency of diagnoses in the train/test/case/control sets."
   ]
  },
  {
   "cell_type": "code",
   "execution_count": null,
   "metadata": {},
   "outputs": [],
   "source": [
    "df_cont = df[df['variable_name_decoded'].isin(descriptors_cont)]\n",
    "df_demo = df[df['variable_name_decoded'].isin(descriptors_demo)]\n",
    "df_icd = df[df['group'].isin(descriptors_icd)]"
   ]
  },
  {
   "cell_type": "code",
   "execution_count": null,
   "metadata": {},
   "outputs": [],
   "source": [
    "df_demo = df_demo.pivot_table(index=['TRAIN','HF_LABEL','ID'], columns=['variable_name_decoded'], values='variable_value', aggfunc='first')\n",
    "df_demo = pd.get_dummies(df_demo, columns=['ETHNICITY','GENDER','Gender','MARITAL_STATUS','Race'], dummy_na=True).reset_index()\n",
    "df_demo = df_demo.melt(id_vars=['TRAIN','HF_LABEL','ID'])\n",
    "sample_sizes = df_demo.groupby(['TRAIN','HF_LABEL'])['ID'].nunique()\n",
    "\n",
    "perc = df_demo.groupby(['TRAIN','HF_LABEL','variable'])['value'].sum() / sample_sizes\n",
    "count = df_demo.groupby(['TRAIN','HF_LABEL','variable'])['value'].sum()\n",
    "\n",
    "df_demo = pd.concat([count,perc], axis=1)\n",
    "df_demo['val'] = df_demo['value'].astype(str) + ' (' + (round(df_demo[0], 2) * 100).astype(str) + '%)'\n",
    "\n",
    "df_demo.pivot_table(index=['TRAIN','HF_LABEL'], columns='variable', values='val', aggfunc='first').T.to_clipboard()"
   ]
  },
  {
   "cell_type": "code",
   "execution_count": null,
   "metadata": {},
   "outputs": [],
   "source": [
    "x = df_cont['variable_value'].str.contains('[a-zA-Z]', regex=True).fillna(False)\n",
    "df_cont = df_cont[~x]\n",
    "df_cont['variable_value'] = df_cont['variable_value'].str.strip()\n",
    "df_cont['variable_value'] = df_cont['variable_value'].astype(float)\n",
    "\n",
    "df_cont_stats = df_cont.groupby(['TRAIN','HF_LABEL','variable_name_decoded'])['variable_value'].agg(['mean', 'std'])\n",
    "df_cont_stats['val'] = round(df_cont_stats['mean'], 2).astype(str) + ' ± ' + round(df_cont_stats['std'], 2).astype(str)\n",
    "\n",
    "df_cont_stats.pivot_table(index=['TRAIN','HF_LABEL'], columns='variable_name_decoded', values=['val'], aggfunc='first').T.to_clipboard()"
   ]
  },
  {
   "cell_type": "code",
   "execution_count": null,
   "metadata": {},
   "outputs": [],
   "source": [
    "df_icd = df_icd.drop_duplicates(subset=['TRAIN','HF_LABEL','ID','group'])\n",
    "df_icd['variable_value'] = df_icd['variable_value'].astype(int)\n",
    "sample_sizes = df_icd.groupby(['TRAIN','HF_LABEL'])['ID'].nunique()\n",
    "df_icd_count = df_icd.pivot_table(index=['TRAIN','HF_LABEL'], columns=['group'], values='variable_value', aggfunc='sum').T\n",
    "# df_icd_count = df_icd_count.melt(id_vars=['TRAIN','HF_LABEL'])\n",
    "sample_sizes = df_icd.groupby(['TRAIN','HF_LABEL'])['ID'].nunique()\n",
    "# df_icd_perc = df_icd_count / sample_sizes"
   ]
  },
  {
   "cell_type": "code",
   "execution_count": null,
   "metadata": {},
   "outputs": [],
   "source": [
    "df_icd_count.to_clipboard()"
   ]
  }
 ],
 "metadata": {
  "kernelspec": {
   "display_name": "py39",
   "language": "python",
   "name": "python3"
  },
  "language_info": {
   "codemirror_mode": {
    "name": "ipython",
    "version": 3
   },
   "file_extension": ".py",
   "mimetype": "text/x-python",
   "name": "python",
   "nbconvert_exporter": "python",
   "pygments_lexer": "ipython3",
   "version": "3.9.-1"
  }
 },
 "nbformat": 4,
 "nbformat_minor": 2
}
